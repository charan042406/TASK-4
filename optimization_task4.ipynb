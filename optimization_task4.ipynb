{
 "cells": [
  {
   "cell_type": "markdown",
   "metadata": {},
   "source": [
    "# CODTECH Internship – Task 4\n",
    "## Business Optimization Problem using Linear Programming and PuLP"
   ]
  },
  {
   "cell_type": "markdown",
   "metadata": {},
   "source": [
    "### Problem Statement:\n",
    "A company produces two products: A and B.\n",
    "Each unit of A requires 2 hours on machine M1 and 1 hour on machine M2.\n",
    "Each unit of B requires 1 hour on machine M1 and 3 hours on machine M2.\n",
    "There are 100 hours available on M1 and 90 hours on M2.\n",
    "Profit per unit: $40 for A, $50 for B.\n",
    "\n",
    "**Goal:** Maximize profit."
   ]
  },
  {
   "cell_type": "code",
   "execution_count": null,
   "metadata": {},
   "outputs": [],
   "source": [
    "from pulp import LpMaximize, LpProblem, LpVariable, lpSum\n",
    "\n",
    "# Define the LP problem\n",
    "model = LpProblem(name="profit-maximization", sense=LpMaximize)\n",
    "\n",
    "# Define decision variables\n",
    "x = LpVariable(name="A_units", lowBound=0, cat='Integer')\n",
    "y = LpVariable(name="B_units", lowBound=0, cat='Integer')\n",
    "\n",
    "# Objective function\n",
    "model += 40 * x + 50 * y, "Total Profit"\n",
    "\n",
    "# Constraints\n",
    "model += 2 * x + 1 * y <= 100, "Machine_M1"\n",
    "model += 1 * x + 3 * y <= 90, "Machine_M2"\n",
    "\n",
    "# Solve the problem\n",
    "model.solve()\n",
    "\n",
    "# Output the results\n",
    "print(f"Status: {model.status}")\n",
    "print(f"Produce {x.value()} units of Product A")\n",
    "print(f"Produce {y.value()} units of Product B")\n",
    "print(f"Maximum Profit: ${model.objective.value()}")"
   ]
  }
 ],
 "metadata": {
  "kernelspec": {
   "display_name": "Python 3",
   "language": "python",
   "name": "python3"
  },
  "language_info": {
   "name": "python",
   "version": "3.8"
  }
 },
 "nbformat": 4,
 "nbformat_minor": 2
}
